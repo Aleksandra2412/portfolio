{
 "cells": [
  {
   "cell_type": "code",
   "execution_count": 1,
   "id": "5122e150",
   "metadata": {},
   "outputs": [],
   "source": [
    "import numpy as np\n"
   ]
  },
  {
   "cell_type": "code",
   "execution_count": null,
   "id": "698623eb",
   "metadata": {},
   "outputs": [],
   "source": [
    "\"\"\"Смоделировать игру против лотерейного автомата типа “777”. Игрок платит 1 руб., после чего выпадает случайное целое число, равномерно распределенное от 0 до 999. При некоторых значениях числа игрок получает выигрыш.\n",
    "\n",
    "777: 200 руб.\n",
    "999: 100 руб.\n",
    "555: 50 руб.\n",
    "333: 15 руб.\n",
    "111: 10 руб.\n",
    "*77: 5 руб.\n",
    "**7: 3 руб.\n",
    "*00: 2 руб.\n",
    "**0: 1 руб.\"\"\""
   ]
  },
  {
   "cell_type": "code",
   "execution_count": 10,
   "id": "dbc181a3",
   "metadata": {},
   "outputs": [
    {
     "name": "stdout",
     "output_type": "stream",
     "text": [
      "Вероятность выигрыша: 0.203818 Средний выигрыш за игру: -193173\n"
     ]
    }
   ],
   "source": [
    "trials = 1000000 \n",
    "prize = 0\n",
    "success = 0\n",
    "\n",
    "for i in range(trials):\n",
    "    random_score = np.random.randint(0, 1000)\n",
    "    if random_score == 777:\n",
    "        prize += 200\n",
    "        success += 1\n",
    "    elif random_score == 999:\n",
    "        prize += 100\n",
    "        success += 1\n",
    "    elif random_score == 555:\n",
    "        prize += 50\n",
    "        success += 1\n",
    "    elif random_score == 333:\n",
    "        prize += 15\n",
    "        success += 1\n",
    "    elif random_score == 111:\n",
    "        prize += 10\n",
    "        success += 1\n",
    "    elif random_score % 100 == 77:\n",
    "        prize += 5\n",
    "        success += 1\n",
    "    elif random_score % 10 == 7:\n",
    "        prize += 3\n",
    "        success += 1\n",
    "    elif random_score % 100 == 0:\n",
    "        prize += 2\n",
    "        success += 1\n",
    "    elif random_score % 10 == 0:\n",
    "        prize += 1\n",
    "        success += 1\n",
    "monte_carlo = success/trials\n",
    "result = prize - trials\n",
    "print('Вероятность выигрыша:', monte_carlo , 'Средний выигрыш за игру:', result)"
   ]
  },
  {
   "cell_type": "code",
   "execution_count": null,
   "id": "e9a17861",
   "metadata": {},
   "outputs": [],
   "source": [
    "#можно сделать вывод, что игра игроку невыгодна"
   ]
  },
  {
   "cell_type": "code",
   "execution_count": null,
   "id": "a1ce27b9",
   "metadata": {},
   "outputs": [],
   "source": []
  }
 ],
 "metadata": {
  "kernelspec": {
   "display_name": "Python 3 (ipykernel)",
   "language": "python",
   "name": "python3"
  },
  "language_info": {
   "codemirror_mode": {
    "name": "ipython",
    "version": 3
   },
   "file_extension": ".py",
   "mimetype": "text/x-python",
   "name": "python",
   "nbconvert_exporter": "python",
   "pygments_lexer": "ipython3",
   "version": "3.9.13"
  }
 },
 "nbformat": 4,
 "nbformat_minor": 5
}
