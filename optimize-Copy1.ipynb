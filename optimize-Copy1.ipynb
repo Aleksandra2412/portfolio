{
 "cells": [
  {
   "cell_type": "markdown",
   "id": "7f1ef503",
   "metadata": {},
   "source": [
    "# Загрузка данных и фильтрация\n"
   ]
  },
  {
   "cell_type": "code",
   "execution_count": 16,
   "id": "7f831655",
   "metadata": {},
   "outputs": [
    {
     "name": "stdout",
     "output_type": "stream",
     "text": [
      "    sepal length (cm)  sepal width (cm)  petal length (cm)  petal width (cm)  \\\n",
      "50                7.0               3.2                4.7               1.4   \n",
      "51                6.4               3.2                4.5               1.5   \n",
      "52                6.9               3.1                4.9               1.5   \n",
      "53                5.5               2.3                4.0               1.3   \n",
      "54                6.5               2.8                4.6               1.5   \n",
      "\n",
      "    target  \n",
      "50       1  \n",
      "51       1  \n",
      "52       1  \n",
      "53       1  \n",
      "54       1  \n"
     ]
    }
   ],
   "source": [
    "from sklearn.datasets import load_iris\n",
    "import pandas as pd\n",
    "import numpy as np\n",
    "import time\n",
    "\n",
    "# Загрузка датасета с ирисами\n",
    "iris = load_iris()\n",
    "\n",
    "# Преобразование данных в pandas DataFrame\n",
    "iris_df = pd.DataFrame(data=iris.data, columns=iris.feature_names)\n",
    "iris_df['target'] = iris.target\n",
    "\n",
    "# Фильтрация данных оставляет только Versicolor (класс 1) и Virginica (класс 2)\n",
    "filtered_iris_df = iris_df[iris_df['target'].isin([1, 2])]\n",
    "\n",
    "# Вывод первых нескольких строк фильтрованного датасета\n",
    "print(filtered_iris_df.head())"
   ]
  },
  {
   "cell_type": "code",
   "execution_count": 2,
   "id": "30259d2a",
   "metadata": {},
   "outputs": [],
   "source": [
    "X = filtered_iris_df.drop('target', axis=1)\n",
    "y = filtered_iris_df['target']"
   ]
  },
  {
   "cell_type": "code",
   "execution_count": 3,
   "id": "116fdab4",
   "metadata": {},
   "outputs": [
    {
     "data": {
      "text/plain": [
       "50     0\n",
       "51     0\n",
       "52     0\n",
       "53     0\n",
       "54     0\n",
       "      ..\n",
       "145    1\n",
       "146    1\n",
       "147    1\n",
       "148    1\n",
       "149    1\n",
       "Name: target, Length: 100, dtype: int64"
      ]
     },
     "execution_count": 3,
     "metadata": {},
     "output_type": "execute_result"
    }
   ],
   "source": [
    "y -= 1\n",
    "y\n"
   ]
  },
  {
   "cell_type": "markdown",
   "id": "7fd8a950",
   "metadata": {},
   "source": [
    "# Метод градиентного спуска"
   ]
  },
  {
   "cell_type": "code",
   "execution_count": 4,
   "id": "1538b753",
   "metadata": {},
   "outputs": [],
   "source": [
    "def logistic_regression_gradient(X, y, num_iterations, learning_rate):\n",
    "    # Инициализация весов\n",
    "    num_features = X.shape[1]\n",
    "    weights = np.zeros(num_features)\n",
    "    bias = 0\n",
    "\n",
    "    # Процесс обновления весов\n",
    "    for i in range(num_iterations):\n",
    "        # Линейная комбинация входных признаков и весов\n",
    "        linear_combination = np.dot(X, weights) + bias\n",
    "\n",
    "        # Применение функции сигмоиды\n",
    "        predicted_probabilities = 1 / (1 + np.exp(-linear_combination))\n",
    "\n",
    "        # Вычисление градиента для весов и смещения\n",
    "        gradient_weights = np.dot(X.T, (predicted_probabilities - y)) / len(X)\n",
    "        gradient_bias = np.mean(predicted_probabilities - y)\n",
    "\n",
    "        # Обновление весов и смещения\n",
    "        weights -= learning_rate * gradient_weights\n",
    "        bias -= learning_rate * gradient_bias\n",
    "\n",
    "    return weights, bias"
   ]
  },
  {
   "cell_type": "code",
   "execution_count": 5,
   "id": "5c77bd5f",
   "metadata": {},
   "outputs": [],
   "source": [
    "def predict(X, weights, bias):\n",
    "    # Линейная комбинация входных признаков и весов\n",
    "    linear_combination = np.dot(X, weights) + bias\n",
    "\n",
    "    # Применение функции сигмоиды\n",
    "    predicted_probabilities = 1 / (1 + np.exp(-linear_combination))\n",
    "\n",
    "    # Округление вероятностей до бинарных предсказаний\n",
    "    predicted_labels = np.round(predicted_probabilities)\n",
    "\n",
    "    return predicted_labels\n",
    "\n",
    "def accuracy(X, y, weights, bias):\n",
    "    # Получение предсказаний\n",
    "    predicted_labels = predict(X, weights, bias)\n",
    "\n",
    "    # Вычисление точности предсказаний\n",
    "    accuracy = np.mean(predicted_labels == y)\n",
    "\n",
    "    return accuracy"
   ]
  },
  {
   "cell_type": "code",
   "execution_count": 17,
   "id": "429d540a",
   "metadata": {},
   "outputs": [],
   "source": [
    "start_time = time.time()\n",
    "learning_rate = 0.01\n",
    "num_iterations = 1000\n",
    "weights, bias = logistic_regression_gradient(X, y, num_iterations, learning_rate)\n",
    "end_time = time.time()\n",
    "total_time1 = end_time - start_time"
   ]
  },
  {
   "cell_type": "code",
   "execution_count": 7,
   "id": "41c6271b",
   "metadata": {},
   "outputs": [
    {
     "name": "stdout",
     "output_type": "stream",
     "text": [
      "Точность предсказаний logistic_regression_gradient: 0.96\n"
     ]
    }
   ],
   "source": [
    "acc1 = accuracy(X, y, weights, bias)\n",
    "print(\"Точность предсказаний logistic_regression_gradient:\", acc1)"
   ]
  },
  {
   "cell_type": "markdown",
   "id": "b812e4f5",
   "metadata": {},
   "source": [
    "# Метод скользящего среднего"
   ]
  },
  {
   "cell_type": "code",
   "execution_count": 18,
   "id": "66441f11",
   "metadata": {},
   "outputs": [],
   "source": [
    "import numpy as np\n",
    "import pandas as pd\n",
    "\n",
    "def logistic_regression_smoothing(X, y, num_iterations, learning_rate, smoothing_factor):\n",
    "    # Инициализация весов\n",
    "    num_features = X.shape[1]\n",
    "    weights = np.zeros(num_features)\n",
    "    bias = 0\n",
    "\n",
    "    # Инициализация переменных для скользящего среднего\n",
    "    weights_avg = np.zeros(num_features)\n",
    "    bias_avg = 0\n",
    "    t = 1  # Шаг скользящего среднего\n",
    "\n",
    "    # Процесс обновления весов\n",
    "    for i in range(num_iterations):\n",
    "        # Линейная комбинация входных признаков и весов\n",
    "        linear_combination = np.dot(X, weights) + bias\n",
    "\n",
    "        # Применение функции сигмоиды\n",
    "        predicted_probabilities = 1 / (1 + np.exp(-linear_combination))\n",
    "\n",
    "        # Вычисление градиента для весов и смещения\n",
    "        gradient_weights = np.dot(X.T, (predicted_probabilities - y)) / len(X)\n",
    "        gradient_bias = np.mean(predicted_probabilities - y)\n",
    "\n",
    "        # Обновление весов и смещения\n",
    "        weights -= learning_rate * gradient_weights\n",
    "\n",
    "        # Обновление переменных скользящего среднего\n",
    "        weights_avg = (smoothing_factor * weights_avg + (1 - smoothing_factor) * weights) / t\n",
    "        bias_avg = (smoothing_factor * bias_avg + (1 - smoothing_factor) * bias) / t\n",
    "\n",
    "        # Обновление смещения\n",
    "        bias -= learning_rate * gradient_bias\n",
    "\n",
    "        # Увеличение шага скользящего среднего\n",
    "        t += 1\n",
    "\n",
    "    return weights_avg, bias_avg"
   ]
  },
  {
   "cell_type": "code",
   "execution_count": 19,
   "id": "59f4f59c",
   "metadata": {},
   "outputs": [],
   "source": [
    "start_time = time.time()\n",
    "# Обучение модели\n",
    "learning_rate = 0.01\n",
    "num_iterations = 1000\n",
    "smoothing_factor = 0.9\n",
    "weights, bias = logistic_regression_smoothing(X, y, num_iterations, learning_rate, smoothing_factor)\n",
    "end_time = time.time()\n",
    "total_time2 = end_time - start_time"
   ]
  },
  {
   "cell_type": "code",
   "execution_count": 20,
   "id": "a522b846",
   "metadata": {},
   "outputs": [
    {
     "name": "stdout",
     "output_type": "stream",
     "text": [
      "Точность предсказаний logistic_regression_smoothing: 0.96\n"
     ]
    }
   ],
   "source": [
    "# Оценка точности предсказаний\n",
    "acc2 = accuracy(X, y, weights, bias)\n",
    "print(\"Точность предсказаний logistic_regression_smoothing:\", acc2)"
   ]
  },
  {
   "cell_type": "markdown",
   "id": "fa221d91",
   "metadata": {},
   "source": [
    "# Метод адаптивной оценки моментов"
   ]
  },
  {
   "cell_type": "code",
   "execution_count": 21,
   "id": "527ec760",
   "metadata": {},
   "outputs": [],
   "source": [
    "import numpy as np\n",
    "import pandas as pd\n",
    "\n",
    "def logistic_regression_nadam(X, y, num_iterations, learning_rate, beta1, beta2, epsilon):\n",
    "    # Инициализация весов\n",
    "    num_features = X.shape[1]\n",
    "    weights = np.zeros(num_features)\n",
    "    bias = 0\n",
    "\n",
    "    # Инициализация моментов первого и второго порядка\n",
    "    m_weights = np.zeros(num_features)\n",
    "    m_bias = 0\n",
    "    v_weights = np.zeros(num_features)\n",
    "    v_bias = 0\n",
    "\n",
    "    # Процесс обновления весов\n",
    "    for i in range(num_iterations):\n",
    "        # Вычисление градиента для весов и смещения\n",
    "        gradients_weights, gradient_bias = compute_gradients(X, y, weights, bias)\n",
    "\n",
    "        # Обновление моментов первого порядка\n",
    "        m_weights = beta1 * m_weights + (1 - beta1) * gradients_weights\n",
    "        m_bias = beta1 * m_bias + (1 - beta1) * gradient_bias\n",
    "\n",
    "        # Обновление моментов второго порядка\n",
    "        v_weights = beta2 * v_weights + (1 - beta2) * np.square(gradients_weights)\n",
    "        v_bias = beta2 * v_bias + (1 - beta2) * np.square(gradient_bias)\n",
    "\n",
    "        # Коррекция моментов первого и второго порядка\n",
    "        m_weights_hat = m_weights / (1 - np.power(beta1, i+1))\n",
    "        m_bias_hat = m_bias / (1 - np.power(beta1, i+1))\n",
    "        v_weights_hat = v_weights / (1 - np.power(beta2, i+1))\n",
    "        v_bias_hat = v_bias / (1 - np.power(beta2, i+1))\n",
    "\n",
    "        # Обновление весов и смещения с использованием Nadam\n",
    "        weights -= learning_rate * (m_weights_hat / (np.sqrt(v_weights_hat) + epsilon))\n",
    "        bias -= learning_rate * (m_bias_hat / (np.sqrt(v_bias_hat) + epsilon))\n",
    "\n",
    "    return weights, bias\n",
    "\n",
    "def compute_gradients(X, y, weights, bias):\n",
    "    # Линейная комбинация входных признаков и весов\n",
    "    linear_combination = np.dot(X, weights) + bias\n",
    "\n",
    "    # Применение функции сигмоиды\n",
    "    predicted_probabilities = 1 / (1 + np.exp(-linear_combination))\n",
    "\n",
    "    # Вычисление градиента для весов и смещения\n",
    "    gradients_weights = np.dot(X.T, (predicted_probabilities - y)) / len(X)\n",
    "    gradient_bias = np.mean(predicted_probabilities - y)\n",
    "\n",
    "    return gradients_weights, gradient_bias\n"
   ]
  },
  {
   "cell_type": "code",
   "execution_count": 22,
   "id": "68be2b47",
   "metadata": {},
   "outputs": [],
   "source": [
    "tart_time = time.time()\n",
    "# Обучение модели\n",
    "learning_rate = 0.01\n",
    "num_iterations = 1000\n",
    "beta1 = 0.9\n",
    "beta2 = 0.999\n",
    "epsilon = 1e-8\n",
    "weights, bias = logistic_regression_nadam(X, y, num_iterations, learning_rate, beta1, beta2, epsilon)\n",
    "\n",
    "end_time = time.time()\n",
    "total_time3 = end_time - start_time"
   ]
  },
  {
   "cell_type": "code",
   "execution_count": 23,
   "id": "59288a1c",
   "metadata": {},
   "outputs": [
    {
     "name": "stdout",
     "output_type": "stream",
     "text": [
      "Точность предсказаний logistic_regression_nadam: 0.97\n"
     ]
    }
   ],
   "source": [
    "# Оценка точности предсказаний\n",
    "acc3 = accuracy(X, y, weights, bias)\n",
    "print(\"Точность предсказаний logistic_regression_nadam:\", acc3)"
   ]
  },
  {
   "cell_type": "markdown",
   "id": "2e2bacab",
   "metadata": {},
   "source": [
    "# Сравнение результатов"
   ]
  },
  {
   "cell_type": "code",
   "execution_count": 24,
   "id": "495dbd3f",
   "metadata": {},
   "outputs": [],
   "source": [
    "result = pd.DataFrame()\n",
    "result[\"logistic_regression_gradient\"] = [acc1,  total_time1]\n",
    "result[\"logistic_regression_smoothing\"] = [acc2,  total_time2]\n",
    "result[\"logistic_regression_nadam\"] = [acc3,  total_time3]\n",
    "result.index = ['Accuracy', 'Time']"
   ]
  },
  {
   "cell_type": "code",
   "execution_count": 25,
   "id": "e5b414cb",
   "metadata": {},
   "outputs": [
    {
     "data": {
      "text/html": [
       "<div>\n",
       "<style scoped>\n",
       "    .dataframe tbody tr th:only-of-type {\n",
       "        vertical-align: middle;\n",
       "    }\n",
       "\n",
       "    .dataframe tbody tr th {\n",
       "        vertical-align: top;\n",
       "    }\n",
       "\n",
       "    .dataframe thead th {\n",
       "        text-align: right;\n",
       "    }\n",
       "</style>\n",
       "<table border=\"1\" class=\"dataframe\">\n",
       "  <thead>\n",
       "    <tr style=\"text-align: right;\">\n",
       "      <th></th>\n",
       "      <th>logistic_regression_gradient</th>\n",
       "      <th>logistic_regression_smoothing</th>\n",
       "      <th>logistic_regression_nadam</th>\n",
       "    </tr>\n",
       "  </thead>\n",
       "  <tbody>\n",
       "    <tr>\n",
       "      <th>Accuracy</th>\n",
       "      <td>0.960000</td>\n",
       "      <td>0.960000</td>\n",
       "      <td>0.970000</td>\n",
       "    </tr>\n",
       "    <tr>\n",
       "      <th>Time</th>\n",
       "      <td>0.396735</td>\n",
       "      <td>0.465906</td>\n",
       "      <td>1.752445</td>\n",
       "    </tr>\n",
       "  </tbody>\n",
       "</table>\n",
       "</div>"
      ],
      "text/plain": [
       "          logistic_regression_gradient  logistic_regression_smoothing  \\\n",
       "Accuracy                      0.960000                       0.960000   \n",
       "Time                          0.396735                       0.465906   \n",
       "\n",
       "          logistic_regression_nadam  \n",
       "Accuracy                   0.970000  \n",
       "Time                       1.752445  "
      ]
     },
     "execution_count": 25,
     "metadata": {},
     "output_type": "execute_result"
    }
   ],
   "source": [
    "result"
   ]
  },
  {
   "cell_type": "markdown",
   "id": "3b100126",
   "metadata": {},
   "source": [
    "Наибольшей точностью в нашем случае обладает метод адаптивной оценки моментов, но в то же время его реализация занимает более чем в 200 раз больше времени по сравнению с остпальными методами. Поэтому считаю, что с точки зрения экономии ресурсов разница в точности в 1% совсем не критична, и можно пользоваться методом градиентного спуска или скользящего среднего. эти методы также показывают высокую точность - 96%"
   ]
  },
  {
   "cell_type": "code",
   "execution_count": null,
   "id": "9c89ec38",
   "metadata": {},
   "outputs": [],
   "source": []
  }
 ],
 "metadata": {
  "kernelspec": {
   "display_name": "Python 3 (ipykernel)",
   "language": "python",
   "name": "python3"
  },
  "language_info": {
   "codemirror_mode": {
    "name": "ipython",
    "version": 3
   },
   "file_extension": ".py",
   "mimetype": "text/x-python",
   "name": "python",
   "nbconvert_exporter": "python",
   "pygments_lexer": "ipython3",
   "version": "3.9.13"
  }
 },
 "nbformat": 4,
 "nbformat_minor": 5
}
