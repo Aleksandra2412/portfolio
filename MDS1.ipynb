{
 "cells": [
  {
   "cell_type": "code",
   "execution_count": 33,
   "id": "973c787e",
   "metadata": {},
   "outputs": [
    {
     "data": {
      "image/png": "[encoded data removed]",
      "text/plain": [
       "<Figure size 640x480 with 1 Axes>"
      ]
     },
     "metadata": {},
     "output_type": "display_data"
    }
   ],
   "source": [
    "import numpy as np\n",
    "import matplotlib.pyplot as plt\n",
    "\n",
    "film_1 = np.array([0,0,0,0,1,0])      # Игра в имитацию\n",
    "\n",
    "film_2 = np.array([0,1,0,1,0,0])      # Ярость\n",
    "\n",
    "film_3 = np.array([0,0,1,1,1,0])      # 12 лет рабства\n",
    "\n",
    "film_4 = np.array([1,0,0,1,0,1])      # Однажды в Голливуде\n",
    "\n",
    "plt.figure()\n",
    "plt.plot(film_1[0], film_1[1], film_1[2], film_1[3], film_1[4], film_1[5], 'r+')\n",
    "plt.plot(film_2[0], film_2[1], film_2[2], film_2[3], film_2[4], film_2[5], 'b+')\n",
    "plt.plot(film_3[0], film_3[1], film_3[2], film_3[3], film_3[4], film_3[5], 'b*')\n",
    "plt.plot(film_4[0], film_4[1], film_4[2], film_4[3], film_4[4], film_4[5], 'g*')\n",
    "plt.grid()\n",
    "plt.xlim([-2, 2])\n",
    "plt.ylim([-2, 2])\n",
    "plt.show()\n",
    "\n",
    "\n"
   ]
  },
  {
   "cell_type": "code",
   "execution_count": 11,
   "id": "1a2633f5",
   "metadata": {},
   "outputs": [
    {
     "data": {
      "text/plain": [
       "1"
      ]
     },
     "execution_count": 11,
     "metadata": {},
     "output_type": "execute_result"
    }
   ],
   "source": [
    "#Задание 1\n",
    "#Найти угол между векторами-фильмами \"Ярость\" и \"12 лет рабства\". \n",
    "#Результатом будет являться косинусная мера, которую можно использовать для определения похожести векторов.\n",
    "np.dot(film_2,film_3)\n",
    "     \n"
   ]
  },
  {
   "cell_type": "code",
   "execution_count": 16,
   "id": "33f7c466",
   "metadata": {},
   "outputs": [
    {
     "data": {
      "text/plain": [
       "0.40824829046386296"
      ]
     },
     "execution_count": 16,
     "metadata": {},
     "output_type": "execute_result"
    }
   ],
   "source": [
    "np.dot(film_2, film_3)/ (np.linalg.norm(film_2)* np.linalg.norm(film_3)) #косинусное сходство между векторами"
   ]
  },
  {
   "cell_type": "code",
   "execution_count": 17,
   "id": "e4ef0be6",
   "metadata": {},
   "outputs": [],
   "source": [
    "#Задание 2\n",
    "#Вычислить с помощью Python значение первой производной для функции 8x(x+3)**2 в точке x = 1\n",
    "import sympy as sym\n",
    "x = sym.Symbol('x')"
   ]
  },
  {
   "cell_type": "code",
   "execution_count": 18,
   "id": "26fddfe9",
   "metadata": {},
   "outputs": [
    {
     "data": {
      "text/latex": [
       "$\\displaystyle 8 x \\left(x + 3\\right)^{2}$"
      ],
      "text/plain": [
       "8*x*(x + 3)**2"
      ]
     },
     "execution_count": 18,
     "metadata": {},
     "output_type": "execute_result"
    }
   ],
   "source": [
    "8*x*(x + 3)**2 "
   ]
  },
  {
   "cell_type": "code",
   "execution_count": 19,
   "id": "1147e3af",
   "metadata": {},
   "outputs": [],
   "source": [
    "res = sym.diff(8*x*(x + 3)**2, x )"
   ]
  },
  {
   "cell_type": "code",
   "execution_count": 20,
   "id": "9f0e6d90",
   "metadata": {},
   "outputs": [
    {
     "data": {
      "text/latex": [
       "$\\displaystyle 8 x \\left(2 x + 6\\right) + 8 \\left(x + 3\\right)^{2}$"
      ],
      "text/plain": [
       "8*x*(2*x + 6) + 8*(x + 3)**2"
      ]
     },
     "execution_count": 20,
     "metadata": {},
     "output_type": "execute_result"
    }
   ],
   "source": [
    "res"
   ]
  },
  {
   "cell_type": "code",
   "execution_count": 21,
   "id": "7cf2529b",
   "metadata": {},
   "outputs": [
    {
     "data": {
      "text/latex": [
       "$\\displaystyle 192$"
      ],
      "text/plain": [
       "192"
      ]
     },
     "execution_count": 21,
     "metadata": {},
     "output_type": "execute_result"
    }
   ],
   "source": [
    "res.subs(x, 1)"
   ]
  },
  {
   "cell_type": "code",
   "execution_count": 23,
   "id": "5f44dbf8",
   "metadata": {},
   "outputs": [],
   "source": [
    "#Задание 3\n",
    "#Объединить векторы фильмов в матрицу, \n",
    "#где каждый вектор является строкой матрицы. Умножьте вектор [1,2,3,4] на полученную матрицу\n",
    "matrix1 = np.array([[0,0,0,0,1,0], \n",
    "                   [0,1,0,1,0,0],\n",
    "                   [0,0,1,1,1,0],     \n",
    "                   [1,0,0,1,0,1]])    \n",
    "\n"
   ]
  },
  {
   "cell_type": "code",
   "execution_count": 24,
   "id": "556baaf4",
   "metadata": {},
   "outputs": [
    {
     "data": {
      "text/plain": [
       "array([[0, 0, 0, 0, 1, 0],\n",
       "       [0, 1, 0, 1, 0, 0],\n",
       "       [0, 0, 1, 1, 1, 0],\n",
       "       [1, 0, 0, 1, 0, 1]])"
      ]
     },
     "execution_count": 24,
     "metadata": {},
     "output_type": "execute_result"
    }
   ],
   "source": [
    "matrix1"
   ]
  },
  {
   "cell_type": "code",
   "execution_count": 25,
   "id": "05616dcd",
   "metadata": {},
   "outputs": [],
   "source": [
    "A = np.array ([1, 2, 3, 4])"
   ]
  },
  {
   "cell_type": "code",
   "execution_count": 29,
   "id": "a8a5a276",
   "metadata": {},
   "outputs": [
    {
     "data": {
      "text/plain": [
       "array([4, 2, 3, 9, 4, 4])"
      ]
     },
     "execution_count": 29,
     "metadata": {},
     "output_type": "execute_result"
    }
   ],
   "source": [
    "A @ matrix1"
   ]
  },
  {
   "cell_type": "code",
   "execution_count": 30,
   "id": "1effad29",
   "metadata": {},
   "outputs": [
    {
     "data": {
      "text/plain": [
       "array([4, 2, 3, 9, 4, 4])"
      ]
     },
     "execution_count": 30,
     "metadata": {},
     "output_type": "execute_result"
    }
   ],
   "source": [
    "np.matmul(A, matrix1)"
   ]
  },
  {
   "cell_type": "code",
   "execution_count": null,
   "id": "ce7c3529",
   "metadata": {},
   "outputs": [],
   "source": []
  }
 ],
 "metadata": {
  "kernelspec": {
   "display_name": "Python 3 (ipykernel)",
   "language": "python",
   "name": "python3"
  },
  "language_info": {
   "codemirror_mode": {
    "name": "ipython",
    "version": 3
   },
   "file_extension": ".py",
   "mimetype": "text/x-python",
   "name": "python",
   "nbconvert_exporter": "python",
   "pygments_lexer": "ipython3",
   "version": "3.9.13"
  }
 },
 "nbformat": 4,
 "nbformat_minor": 5
}
