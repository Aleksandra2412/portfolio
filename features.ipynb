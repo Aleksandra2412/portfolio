{
 "cells": [
  {
   "cell_type": "code",
   "execution_count": 391,
   "id": "6b8cf70c",
   "metadata": {},
   "outputs": [],
   "source": [
    "import pandas as pd\n",
    "import numpy as np\n",
    "import seaborn as sns\n",
    " \n",
    "from matplotlib import pyplot as plt\n",
    " \n",
    "from sklearn.linear_model import LinearRegression\n",
    "from sklearn.model_selection import train_test_split\n",
    "from sklearn import datasets"
   ]
  },
  {
   "cell_type": "markdown",
   "id": "29cbb7e5",
   "metadata": {},
   "source": [
    "# Загружаем данные и проверяем на пропуски"
   ]
  },
  {
   "cell_type": "code",
   "execution_count": 392,
   "id": "4e4fc0db",
   "metadata": {},
   "outputs": [],
   "source": [
    "data = datasets.fetch_california_housing(as_frame = True)"
   ]
  },
  {
   "cell_type": "code",
   "execution_count": 393,
   "id": "460bc6d7",
   "metadata": {},
   "outputs": [
    {
     "data": {
      "text/plain": [
       "'.. _california_housing_dataset:\\n\\nCalifornia Housing dataset\\n--------------------------\\n\\n**Data Set Characteristics:**\\n\\n    :Number of Instances: 20640\\n\\n    :Number of Attributes: 8 numeric, predictive attributes and the target\\n\\n    :Attribute Information:\\n        - MedInc        median income in block group\\n        - HouseAge      median house age in block group\\n        - AveRooms      average number of rooms per household\\n        - AveBedrms     average number of bedrooms per household\\n        - Population    block group population\\n        - AveOccup      average number of household members\\n        - Latitude      block group latitude\\n        - Longitude     block group longitude\\n\\n    :Missing Attribute Values: None\\n\\nThis dataset was obtained from the StatLib repository.\\nhttps://www.dcc.fc.up.pt/~ltorgo/Regression/cal_housing.html\\n\\nThe target variable is the median house value for California districts,\\nexpressed in hundreds of thousands of dollars ($100,000).\\n\\nThis dataset was derived from the 1990 U.S. census, using one row per census\\nblock group. A block group is the smallest geographical unit for which the U.S.\\nCensus Bureau publishes sample data (a block group typically has a population\\nof 600 to 3,000 people).\\n\\nAn household is a group of people residing within a home. Since the average\\nnumber of rooms and bedrooms in this dataset are provided per household, these\\ncolumns may take surpinsingly large values for block groups with few households\\nand many empty houses, such as vacation resorts.\\n\\nIt can be downloaded/loaded using the\\n:func:`sklearn.datasets.fetch_california_housing` function.\\n\\n.. topic:: References\\n\\n    - Pace, R. Kelley and Ronald Barry, Sparse Spatial Autoregressions,\\n      Statistics and Probability Letters, 33 (1997) 291-297\\n'"
      ]
     },
     "execution_count": 393,
     "metadata": {},
     "output_type": "execute_result"
    }
   ],
   "source": [
    "data.DESCR"
   ]
  },
  {
   "cell_type": "code",
   "execution_count": 394,
   "id": "9422945f",
   "metadata": {},
   "outputs": [
    {
     "data": {
      "text/html": [
       "<div>\n",
       "<style scoped>\n",
       "    .dataframe tbody tr th:only-of-type {\n",
       "        vertical-align: middle;\n",
       "    }\n",
       "\n",
       "    .dataframe tbody tr th {\n",
       "        vertical-align: top;\n",
       "    }\n",
       "\n",
       "    .dataframe thead th {\n",
       "        text-align: right;\n",
       "    }\n",
       "</style>\n",
       "<table border=\"1\" class=\"dataframe\">\n",
       "  <thead>\n",
       "    <tr style=\"text-align: right;\">\n",
       "      <th></th>\n",
       "      <th>MedInc</th>\n",
       "      <th>HouseAge</th>\n",
       "      <th>AveRooms</th>\n",
       "      <th>AveBedrms</th>\n",
       "      <th>Population</th>\n",
       "      <th>AveOccup</th>\n",
       "      <th>Latitude</th>\n",
       "      <th>Longitude</th>\n",
       "      <th>MedHouseVal</th>\n",
       "    </tr>\n",
       "  </thead>\n",
       "  <tbody>\n",
       "    <tr>\n",
       "      <th>0</th>\n",
       "      <td>8.3252</td>\n",
       "      <td>41.0</td>\n",
       "      <td>6.984127</td>\n",
       "      <td>1.023810</td>\n",
       "      <td>322.0</td>\n",
       "      <td>2.555556</td>\n",
       "      <td>37.88</td>\n",
       "      <td>-122.23</td>\n",
       "      <td>4.526</td>\n",
       "    </tr>\n",
       "    <tr>\n",
       "      <th>1</th>\n",
       "      <td>8.3014</td>\n",
       "      <td>21.0</td>\n",
       "      <td>6.238137</td>\n",
       "      <td>0.971880</td>\n",
       "      <td>2401.0</td>\n",
       "      <td>2.109842</td>\n",
       "      <td>37.86</td>\n",
       "      <td>-122.22</td>\n",
       "      <td>3.585</td>\n",
       "    </tr>\n",
       "    <tr>\n",
       "      <th>2</th>\n",
       "      <td>7.2574</td>\n",
       "      <td>52.0</td>\n",
       "      <td>8.288136</td>\n",
       "      <td>1.073446</td>\n",
       "      <td>496.0</td>\n",
       "      <td>2.802260</td>\n",
       "      <td>37.85</td>\n",
       "      <td>-122.24</td>\n",
       "      <td>3.521</td>\n",
       "    </tr>\n",
       "    <tr>\n",
       "      <th>3</th>\n",
       "      <td>5.6431</td>\n",
       "      <td>52.0</td>\n",
       "      <td>5.817352</td>\n",
       "      <td>1.073059</td>\n",
       "      <td>558.0</td>\n",
       "      <td>2.547945</td>\n",
       "      <td>37.85</td>\n",
       "      <td>-122.25</td>\n",
       "      <td>3.413</td>\n",
       "    </tr>\n",
       "    <tr>\n",
       "      <th>4</th>\n",
       "      <td>3.8462</td>\n",
       "      <td>52.0</td>\n",
       "      <td>6.281853</td>\n",
       "      <td>1.081081</td>\n",
       "      <td>565.0</td>\n",
       "      <td>2.181467</td>\n",
       "      <td>37.85</td>\n",
       "      <td>-122.25</td>\n",
       "      <td>3.422</td>\n",
       "    </tr>\n",
       "  </tbody>\n",
       "</table>\n",
       "</div>"
      ],
      "text/plain": [
       "   MedInc  HouseAge  AveRooms  AveBedrms  Population  AveOccup  Latitude  \\\n",
       "0  8.3252      41.0  6.984127   1.023810       322.0  2.555556     37.88   \n",
       "1  8.3014      21.0  6.238137   0.971880      2401.0  2.109842     37.86   \n",
       "2  7.2574      52.0  8.288136   1.073446       496.0  2.802260     37.85   \n",
       "3  5.6431      52.0  5.817352   1.073059       558.0  2.547945     37.85   \n",
       "4  3.8462      52.0  6.281853   1.081081       565.0  2.181467     37.85   \n",
       "\n",
       "   Longitude  MedHouseVal  \n",
       "0    -122.23        4.526  \n",
       "1    -122.22        3.585  \n",
       "2    -122.24        3.521  \n",
       "3    -122.25        3.413  \n",
       "4    -122.25        3.422  "
      ]
     },
     "execution_count": 394,
     "metadata": {},
     "output_type": "execute_result"
    }
   ],
   "source": [
    "df = data.frame\n",
    "df.head()\n"
   ]
  },
  {
   "cell_type": "code",
   "execution_count": 395,
   "id": "9db66faa",
   "metadata": {},
   "outputs": [
    {
     "data": {
      "text/plain": [
       "0        4.526\n",
       "1        3.585\n",
       "2        3.521\n",
       "3        3.413\n",
       "4        3.422\n",
       "         ...  \n",
       "20635    0.781\n",
       "20636    0.771\n",
       "20637    0.923\n",
       "20638    0.847\n",
       "20639    0.894\n",
       "Name: MedHouseVal, Length: 20640, dtype: float64"
      ]
     },
     "execution_count": 395,
     "metadata": {},
     "output_type": "execute_result"
    }
   ],
   "source": [
    "X = df[['MedInc','HouseAge','AveRooms','AveBedrms','Population','AveOccup','Latitude','Longitude']]\n",
    "y = df['MedHouseVal']\n",
    "y"
   ]
  },
  {
   "cell_type": "code",
   "execution_count": 396,
   "id": "9c5c66c5",
   "metadata": {},
   "outputs": [
    {
     "data": {
      "text/html": [
       "<div>\n",
       "<style scoped>\n",
       "    .dataframe tbody tr th:only-of-type {\n",
       "        vertical-align: middle;\n",
       "    }\n",
       "\n",
       "    .dataframe tbody tr th {\n",
       "        vertical-align: top;\n",
       "    }\n",
       "\n",
       "    .dataframe thead th {\n",
       "        text-align: right;\n",
       "    }\n",
       "</style>\n",
       "<table border=\"1\" class=\"dataframe\">\n",
       "  <thead>\n",
       "    <tr style=\"text-align: right;\">\n",
       "      <th></th>\n",
       "      <th>MedInc</th>\n",
       "      <th>HouseAge</th>\n",
       "      <th>AveRooms</th>\n",
       "      <th>AveBedrms</th>\n",
       "      <th>Population</th>\n",
       "      <th>AveOccup</th>\n",
       "      <th>Latitude</th>\n",
       "      <th>Longitude</th>\n",
       "    </tr>\n",
       "  </thead>\n",
       "  <tbody>\n",
       "    <tr>\n",
       "      <th>0</th>\n",
       "      <td>8.3252</td>\n",
       "      <td>41.0</td>\n",
       "      <td>6.984127</td>\n",
       "      <td>1.023810</td>\n",
       "      <td>322.0</td>\n",
       "      <td>2.555556</td>\n",
       "      <td>37.88</td>\n",
       "      <td>-122.23</td>\n",
       "    </tr>\n",
       "    <tr>\n",
       "      <th>1</th>\n",
       "      <td>8.3014</td>\n",
       "      <td>21.0</td>\n",
       "      <td>6.238137</td>\n",
       "      <td>0.971880</td>\n",
       "      <td>2401.0</td>\n",
       "      <td>2.109842</td>\n",
       "      <td>37.86</td>\n",
       "      <td>-122.22</td>\n",
       "    </tr>\n",
       "    <tr>\n",
       "      <th>2</th>\n",
       "      <td>7.2574</td>\n",
       "      <td>52.0</td>\n",
       "      <td>8.288136</td>\n",
       "      <td>1.073446</td>\n",
       "      <td>496.0</td>\n",
       "      <td>2.802260</td>\n",
       "      <td>37.85</td>\n",
       "      <td>-122.24</td>\n",
       "    </tr>\n",
       "    <tr>\n",
       "      <th>3</th>\n",
       "      <td>5.6431</td>\n",
       "      <td>52.0</td>\n",
       "      <td>5.817352</td>\n",
       "      <td>1.073059</td>\n",
       "      <td>558.0</td>\n",
       "      <td>2.547945</td>\n",
       "      <td>37.85</td>\n",
       "      <td>-122.25</td>\n",
       "    </tr>\n",
       "    <tr>\n",
       "      <th>4</th>\n",
       "      <td>3.8462</td>\n",
       "      <td>52.0</td>\n",
       "      <td>6.281853</td>\n",
       "      <td>1.081081</td>\n",
       "      <td>565.0</td>\n",
       "      <td>2.181467</td>\n",
       "      <td>37.85</td>\n",
       "      <td>-122.25</td>\n",
       "    </tr>\n",
       "  </tbody>\n",
       "</table>\n",
       "</div>"
      ],
      "text/plain": [
       "   MedInc  HouseAge  AveRooms  AveBedrms  Population  AveOccup  Latitude  \\\n",
       "0  8.3252      41.0  6.984127   1.023810       322.0  2.555556     37.88   \n",
       "1  8.3014      21.0  6.238137   0.971880      2401.0  2.109842     37.86   \n",
       "2  7.2574      52.0  8.288136   1.073446       496.0  2.802260     37.85   \n",
       "3  5.6431      52.0  5.817352   1.073059       558.0  2.547945     37.85   \n",
       "4  3.8462      52.0  6.281853   1.081081       565.0  2.181467     37.85   \n",
       "\n",
       "   Longitude  \n",
       "0    -122.23  \n",
       "1    -122.22  \n",
       "2    -122.24  \n",
       "3    -122.25  \n",
       "4    -122.25  "
      ]
     },
     "execution_count": 396,
     "metadata": {},
     "output_type": "execute_result"
    }
   ],
   "source": [
    "X.head()"
   ]
  },
  {
   "cell_type": "code",
   "execution_count": 397,
   "id": "8e1af41c",
   "metadata": {},
   "outputs": [
    {
     "data": {
      "text/plain": [
       "MedInc        0\n",
       "HouseAge      0\n",
       "AveRooms      0\n",
       "AveBedrms     0\n",
       "Population    0\n",
       "AveOccup      0\n",
       "Latitude      0\n",
       "Longitude     0\n",
       "dtype: int64"
      ]
     },
     "execution_count": 397,
     "metadata": {},
     "output_type": "execute_result"
    }
   ],
   "source": [
    "X.isna().sum()"
   ]
  },
  {
   "cell_type": "code",
   "execution_count": 398,
   "id": "5ea942c9",
   "metadata": {},
   "outputs": [],
   "source": [
    "# Строим модель линейной регрессии"
   ]
  },
  {
   "cell_type": "code",
   "execution_count": 399,
   "id": "b71a7081",
   "metadata": {},
   "outputs": [],
   "source": [
    "X_train, X_test, y_train, y_test = train_test_split(X, y, test_size=0.2) \n",
    "\n"
   ]
  },
  {
   "cell_type": "code",
   "execution_count": 400,
   "id": "2c58df4e",
   "metadata": {},
   "outputs": [],
   "source": [
    "model = LinearRegression()"
   ]
  },
  {
   "cell_type": "code",
   "execution_count": 401,
   "id": "9791c559",
   "metadata": {},
   "outputs": [
    {
     "data": {
      "text/plain": [
       "LinearRegression()"
      ]
     },
     "execution_count": 401,
     "metadata": {},
     "output_type": "execute_result"
    }
   ],
   "source": [
    "model.fit(X_train, y_train)"
   ]
  },
  {
   "cell_type": "code",
   "execution_count": 402,
   "id": "158d89c8",
   "metadata": {},
   "outputs": [],
   "source": [
    "pred_test = model.predict(X_test)"
   ]
  },
  {
   "cell_type": "code",
   "execution_count": 403,
   "id": "84bfd4ce",
   "metadata": {},
   "outputs": [
    {
     "data": {
      "text/plain": [
       "0.7364708575718713"
      ]
     },
     "execution_count": 403,
     "metadata": {},
     "output_type": "execute_result"
    }
   ],
   "source": [
    "from sklearn.metrics import mean_squared_error as MSE\n",
    "from math import sqrt\n",
    "sq_test = sqrt(MSE (y_test, pred_test))\n",
    "sq_test"
   ]
  },
  {
   "cell_type": "code",
   "execution_count": 404,
   "id": "bb483e32",
   "metadata": {},
   "outputs": [],
   "source": [
    "pred_train = model.predict(X_train)"
   ]
  },
  {
   "cell_type": "code",
   "execution_count": 405,
   "id": "1cdb35c9",
   "metadata": {},
   "outputs": [
    {
     "data": {
      "text/plain": [
       "0.7212102447615287"
      ]
     },
     "execution_count": 405,
     "metadata": {},
     "output_type": "execute_result"
    }
   ],
   "source": [
    "sq_train = sqrt(MSE (y_train, pred_train))\n",
    "sq_train"
   ]
  },
  {
   "cell_type": "code",
   "execution_count": 406,
   "id": "1bc4b77e",
   "metadata": {},
   "outputs": [
    {
     "data": {
      "text/plain": [
       "0.6103241153343966"
      ]
     },
     "execution_count": 406,
     "metadata": {},
     "output_type": "execute_result"
    }
   ],
   "source": [
    "r2_train = model.score(X_train, y_train)\n",
    "r2_train"
   ]
  },
  {
   "cell_type": "code",
   "execution_count": 407,
   "id": "a8f9c5bf",
   "metadata": {},
   "outputs": [
    {
     "data": {
      "text/plain": [
       "0.588242650759475"
      ]
     },
     "execution_count": 407,
     "metadata": {},
     "output_type": "execute_result"
    }
   ],
   "source": [
    "r2_test = model.score(X_test, y_test)\n",
    "r2_test"
   ]
  },
  {
   "cell_type": "markdown",
   "id": "8176853a",
   "metadata": {},
   "source": [
    "# Смотрим распределение целевой переменной"
   ]
  },
  {
   "cell_type": "code",
   "execution_count": 408,
   "id": "ee127aea",
   "metadata": {
    "scrolled": false
   },
   "outputs": [
    {
     "name": "stderr",
     "output_type": "stream",
     "text": [
      "/Users/alexa_yakovleva/opt/anaconda3/lib/python3.9/site-packages/seaborn/_decorators.py:36: FutureWarning: Pass the following variable as a keyword arg: x. From version 0.12, the only valid positional argument will be `data`, and passing other arguments without an explicit keyword will result in an error or misinterpretation.\n",
      "  warnings.warn(\n"
     ]
    },
    {
     "data": {
      "text/plain": [
       "<AxesSubplot:xlabel='MedHouseVal'>"
      ]
     },
     "execution_count": 408,
     "metadata": {},
     "output_type": "execute_result"
    },
    {
     "data": {
      "image/png": "[encoded data removed]",
      "text/plain": [
       "<Figure size 640x480 with 1 Axes>"
      ]
     },
     "metadata": {},
     "output_type": "display_data"
    }
   ],
   "source": [
    "sns.boxplot(df['MedHouseVal'])"
   ]
  },
  {
   "cell_type": "code",
   "execution_count": 409,
   "id": "4a20c60a",
   "metadata": {
    "scrolled": true
   },
   "outputs": [
    {
     "data": {
      "text/plain": [
       "(array([ 877., 3612., 4099., 3771., 2799., 1769., 1239.,  752.,  479.,\n",
       "        1243.]),\n",
       " array([0.14999 , 0.634992, 1.119994, 1.604996, 2.089998, 2.575   ,\n",
       "        3.060002, 3.545004, 4.030006, 4.515008, 5.00001 ]),\n",
       " <BarContainer object of 10 artists>)"
      ]
     },
     "execution_count": 409,
     "metadata": {},
     "output_type": "execute_result"
    },
    {
     "data": {
      "image/png": "[encoded data removed]",
      "text/plain": [
       "<Figure size 640x480 with 1 Axes>"
      ]
     },
     "metadata": {},
     "output_type": "display_data"
    }
   ],
   "source": [
    "plt.hist(df['MedHouseVal'])"
   ]
  },
  {
   "cell_type": "markdown",
   "id": "5335ed19",
   "metadata": {},
   "source": [
    "# Строим матрицу корреляции"
   ]
  },
  {
   "cell_type": "code",
   "execution_count": 410,
   "id": "2c91260c",
   "metadata": {},
   "outputs": [
    {
     "data": {
      "text/html": [
       "<style type=\"text/css\">\n",
       "#T_c7ec9_row0_col0, #T_c7ec9_row1_col1, #T_c7ec9_row2_col2, #T_c7ec9_row3_col3, #T_c7ec9_row4_col4, #T_c7ec9_row5_col5, #T_c7ec9_row6_col6, #T_c7ec9_row7_col7, #T_c7ec9_row8_col8 {\n",
       "  background-color: #b40426;\n",
       "  color: #f1f1f1;\n",
       "}\n",
       "#T_c7ec9_row0_col1 {\n",
       "  background-color: #6485ec;\n",
       "  color: #f1f1f1;\n",
       "}\n",
       "#T_c7ec9_row0_col2 {\n",
       "  background-color: #c5d6f2;\n",
       "  color: #000000;\n",
       "}\n",
       "#T_c7ec9_row0_col3 {\n",
       "  background-color: #3e51c5;\n",
       "  color: #f1f1f1;\n",
       "}\n",
       "#T_c7ec9_row0_col4 {\n",
       "  background-color: #86a9fc;\n",
       "  color: #f1f1f1;\n",
       "}\n",
       "#T_c7ec9_row0_col5 {\n",
       "  background-color: #465ecf;\n",
       "  color: #f1f1f1;\n",
       "}\n",
       "#T_c7ec9_row0_col6 {\n",
       "  background-color: #ccd9ed;\n",
       "  color: #000000;\n",
       "}\n",
       "#T_c7ec9_row0_col7 {\n",
       "  background-color: #d5dbe5;\n",
       "  color: #000000;\n",
       "}\n",
       "#T_c7ec9_row0_col8 {\n",
       "  background-color: #f6a283;\n",
       "  color: #000000;\n",
       "}\n",
       "#T_c7ec9_row1_col0, #T_c7ec9_row1_col2, #T_c7ec9_row1_col3, #T_c7ec9_row1_col4, #T_c7ec9_row4_col1, #T_c7ec9_row6_col7, #T_c7ec9_row6_col8, #T_c7ec9_row7_col6, #T_c7ec9_row8_col5 {\n",
       "  background-color: #3b4cc0;\n",
       "  color: #f1f1f1;\n",
       "}\n",
       "#T_c7ec9_row1_col5 {\n",
       "  background-color: #455cce;\n",
       "  color: #f1f1f1;\n",
       "}\n",
       "#T_c7ec9_row1_col6, #T_c7ec9_row3_col7 {\n",
       "  background-color: #d9dce1;\n",
       "  color: #000000;\n",
       "}\n",
       "#T_c7ec9_row1_col7, #T_c7ec9_row4_col6 {\n",
       "  background-color: #c7d7f0;\n",
       "  color: #000000;\n",
       "}\n",
       "#T_c7ec9_row1_col8 {\n",
       "  background-color: #81a4fb;\n",
       "  color: #f1f1f1;\n",
       "}\n",
       "#T_c7ec9_row2_col0 {\n",
       "  background-color: #c0d4f5;\n",
       "  color: #000000;\n",
       "}\n",
       "#T_c7ec9_row2_col1, #T_c7ec9_row4_col0 {\n",
       "  background-color: #5d7ce6;\n",
       "  color: #f1f1f1;\n",
       "}\n",
       "#T_c7ec9_row2_col3 {\n",
       "  background-color: #e26952;\n",
       "  color: #f1f1f1;\n",
       "}\n",
       "#T_c7ec9_row2_col4 {\n",
       "  background-color: #7295f4;\n",
       "  color: #f1f1f1;\n",
       "}\n",
       "#T_c7ec9_row2_col5, #T_c7ec9_row3_col5 {\n",
       "  background-color: #3f53c6;\n",
       "  color: #f1f1f1;\n",
       "}\n",
       "#T_c7ec9_row2_col6 {\n",
       "  background-color: #e6d7cf;\n",
       "  color: #000000;\n",
       "}\n",
       "#T_c7ec9_row2_col7 {\n",
       "  background-color: #d4dbe6;\n",
       "  color: #000000;\n",
       "}\n",
       "#T_c7ec9_row2_col8 {\n",
       "  background-color: #90b2fe;\n",
       "  color: #000000;\n",
       "}\n",
       "#T_c7ec9_row3_col0 {\n",
       "  background-color: #4a63d3;\n",
       "  color: #f1f1f1;\n",
       "}\n",
       "#T_c7ec9_row3_col1 {\n",
       "  background-color: #7093f3;\n",
       "  color: #f1f1f1;\n",
       "}\n",
       "#T_c7ec9_row3_col2 {\n",
       "  background-color: #df634e;\n",
       "  color: #f1f1f1;\n",
       "}\n",
       "#T_c7ec9_row3_col4 {\n",
       "  background-color: #7396f5;\n",
       "  color: #f1f1f1;\n",
       "}\n",
       "#T_c7ec9_row3_col6 {\n",
       "  background-color: #e1dad6;\n",
       "  color: #000000;\n",
       "}\n",
       "#T_c7ec9_row3_col8, #T_c7ec9_row7_col3, #T_c7ec9_row7_col8 {\n",
       "  background-color: #5470de;\n",
       "  color: #f1f1f1;\n",
       "}\n",
       "#T_c7ec9_row4_col2 {\n",
       "  background-color: #4f69d9;\n",
       "  color: #f1f1f1;\n",
       "}\n",
       "#T_c7ec9_row4_col3 {\n",
       "  background-color: #3d50c3;\n",
       "  color: #f1f1f1;\n",
       "}\n",
       "#T_c7ec9_row4_col5, #T_c7ec9_row7_col0 {\n",
       "  background-color: #5673e0;\n",
       "  color: #f1f1f1;\n",
       "}\n",
       "#T_c7ec9_row4_col7 {\n",
       "  background-color: #e5d8d1;\n",
       "  color: #000000;\n",
       "}\n",
       "#T_c7ec9_row4_col8, #T_c7ec9_row5_col8 {\n",
       "  background-color: #5a78e4;\n",
       "  color: #f1f1f1;\n",
       "}\n",
       "#T_c7ec9_row5_col0 {\n",
       "  background-color: #6180e9;\n",
       "  color: #f1f1f1;\n",
       "}\n",
       "#T_c7ec9_row5_col1 {\n",
       "  background-color: #89acfd;\n",
       "  color: #000000;\n",
       "}\n",
       "#T_c7ec9_row5_col2 {\n",
       "  background-color: #6282ea;\n",
       "  color: #f1f1f1;\n",
       "}\n",
       "#T_c7ec9_row5_col3 {\n",
       "  background-color: #4e68d8;\n",
       "  color: #f1f1f1;\n",
       "}\n",
       "#T_c7ec9_row5_col4 {\n",
       "  background-color: #98b9ff;\n",
       "  color: #000000;\n",
       "}\n",
       "#T_c7ec9_row5_col6, #T_c7ec9_row5_col7 {\n",
       "  background-color: #d8dce2;\n",
       "  color: #000000;\n",
       "}\n",
       "#T_c7ec9_row6_col0 {\n",
       "  background-color: #445acc;\n",
       "  color: #f1f1f1;\n",
       "}\n",
       "#T_c7ec9_row6_col1 {\n",
       "  background-color: #88abfd;\n",
       "  color: #000000;\n",
       "}\n",
       "#T_c7ec9_row6_col2 {\n",
       "  background-color: #84a7fc;\n",
       "  color: #f1f1f1;\n",
       "}\n",
       "#T_c7ec9_row6_col3 {\n",
       "  background-color: #6687ed;\n",
       "  color: #f1f1f1;\n",
       "}\n",
       "#T_c7ec9_row6_col4, #T_c7ec9_row7_col1 {\n",
       "  background-color: #688aef;\n",
       "  color: #f1f1f1;\n",
       "}\n",
       "#T_c7ec9_row6_col5, #T_c7ec9_row7_col5 {\n",
       "  background-color: #4257c9;\n",
       "  color: #f1f1f1;\n",
       "}\n",
       "#T_c7ec9_row7_col2 {\n",
       "  background-color: #5b7ae5;\n",
       "  color: #f1f1f1;\n",
       "}\n",
       "#T_c7ec9_row7_col4 {\n",
       "  background-color: #a1c0ff;\n",
       "  color: #000000;\n",
       "}\n",
       "#T_c7ec9_row8_col0 {\n",
       "  background-color: #f6a586;\n",
       "  color: #000000;\n",
       "}\n",
       "#T_c7ec9_row8_col1 {\n",
       "  background-color: #a2c1ff;\n",
       "  color: #000000;\n",
       "}\n",
       "#T_c7ec9_row8_col2 {\n",
       "  background-color: #92b4fe;\n",
       "  color: #000000;\n",
       "}\n",
       "#T_c7ec9_row8_col3 {\n",
       "  background-color: #4358cb;\n",
       "  color: #f1f1f1;\n",
       "}\n",
       "#T_c7ec9_row8_col4 {\n",
       "  background-color: #7ea1fa;\n",
       "  color: #f1f1f1;\n",
       "}\n",
       "#T_c7ec9_row8_col6 {\n",
       "  background-color: #c1d4f4;\n",
       "  color: #000000;\n",
       "}\n",
       "#T_c7ec9_row8_col7 {\n",
       "  background-color: #d1dae9;\n",
       "  color: #000000;\n",
       "}\n",
       "</style>\n",
       "<table id=\"T_c7ec9\">\n",
       "  <thead>\n",
       "    <tr>\n",
       "      <th class=\"blank level0\" >&nbsp;</th>\n",
       "      <th id=\"T_c7ec9_level0_col0\" class=\"col_heading level0 col0\" >MedInc</th>\n",
       "      <th id=\"T_c7ec9_level0_col1\" class=\"col_heading level0 col1\" >HouseAge</th>\n",
       "      <th id=\"T_c7ec9_level0_col2\" class=\"col_heading level0 col2\" >AveRooms</th>\n",
       "      <th id=\"T_c7ec9_level0_col3\" class=\"col_heading level0 col3\" >AveBedrms</th>\n",
       "      <th id=\"T_c7ec9_level0_col4\" class=\"col_heading level0 col4\" >Population</th>\n",
       "      <th id=\"T_c7ec9_level0_col5\" class=\"col_heading level0 col5\" >AveOccup</th>\n",
       "      <th id=\"T_c7ec9_level0_col6\" class=\"col_heading level0 col6\" >Latitude</th>\n",
       "      <th id=\"T_c7ec9_level0_col7\" class=\"col_heading level0 col7\" >Longitude</th>\n",
       "      <th id=\"T_c7ec9_level0_col8\" class=\"col_heading level0 col8\" >MedHouseVal</th>\n",
       "    </tr>\n",
       "  </thead>\n",
       "  <tbody>\n",
       "    <tr>\n",
       "      <th id=\"T_c7ec9_level0_row0\" class=\"row_heading level0 row0\" >MedInc</th>\n",
       "      <td id=\"T_c7ec9_row0_col0\" class=\"data row0 col0\" >1.000000</td>\n",
       "      <td id=\"T_c7ec9_row0_col1\" class=\"data row0 col1\" >-0.119034</td>\n",
       "      <td id=\"T_c7ec9_row0_col2\" class=\"data row0 col2\" >0.326895</td>\n",
       "      <td id=\"T_c7ec9_row0_col3\" class=\"data row0 col3\" >-0.062040</td>\n",
       "      <td id=\"T_c7ec9_row0_col4\" class=\"data row0 col4\" >0.004834</td>\n",
       "      <td id=\"T_c7ec9_row0_col5\" class=\"data row0 col5\" >0.018766</td>\n",
       "      <td id=\"T_c7ec9_row0_col6\" class=\"data row0 col6\" >-0.079809</td>\n",
       "      <td id=\"T_c7ec9_row0_col7\" class=\"data row0 col7\" >-0.015176</td>\n",
       "      <td id=\"T_c7ec9_row0_col8\" class=\"data row0 col8\" >0.688075</td>\n",
       "    </tr>\n",
       "    <tr>\n",
       "      <th id=\"T_c7ec9_level0_row1\" class=\"row_heading level0 row1\" >HouseAge</th>\n",
       "      <td id=\"T_c7ec9_row1_col0\" class=\"data row1 col0\" >-0.119034</td>\n",
       "      <td id=\"T_c7ec9_row1_col1\" class=\"data row1 col1\" >1.000000</td>\n",
       "      <td id=\"T_c7ec9_row1_col2\" class=\"data row1 col2\" >-0.153277</td>\n",
       "      <td id=\"T_c7ec9_row1_col3\" class=\"data row1 col3\" >-0.077747</td>\n",
       "      <td id=\"T_c7ec9_row1_col4\" class=\"data row1 col4\" >-0.296244</td>\n",
       "      <td id=\"T_c7ec9_row1_col5\" class=\"data row1 col5\" >0.013191</td>\n",
       "      <td id=\"T_c7ec9_row1_col6\" class=\"data row1 col6\" >0.011173</td>\n",
       "      <td id=\"T_c7ec9_row1_col7\" class=\"data row1 col7\" >-0.108197</td>\n",
       "      <td id=\"T_c7ec9_row1_col8\" class=\"data row1 col8\" >0.105623</td>\n",
       "    </tr>\n",
       "    <tr>\n",
       "      <th id=\"T_c7ec9_level0_row2\" class=\"row_heading level0 row2\" >AveRooms</th>\n",
       "      <td id=\"T_c7ec9_row2_col0\" class=\"data row2 col0\" >0.326895</td>\n",
       "      <td id=\"T_c7ec9_row2_col1\" class=\"data row2 col1\" >-0.153277</td>\n",
       "      <td id=\"T_c7ec9_row2_col2\" class=\"data row2 col2\" >1.000000</td>\n",
       "      <td id=\"T_c7ec9_row2_col3\" class=\"data row2 col3\" >0.847621</td>\n",
       "      <td id=\"T_c7ec9_row2_col4\" class=\"data row2 col4\" >-0.072213</td>\n",
       "      <td id=\"T_c7ec9_row2_col5\" class=\"data row2 col5\" >-0.004852</td>\n",
       "      <td id=\"T_c7ec9_row2_col6\" class=\"data row2 col6\" >0.106389</td>\n",
       "      <td id=\"T_c7ec9_row2_col7\" class=\"data row2 col7\" >-0.027540</td>\n",
       "      <td id=\"T_c7ec9_row2_col8\" class=\"data row2 col8\" >0.151948</td>\n",
       "    </tr>\n",
       "    <tr>\n",
       "      <th id=\"T_c7ec9_level0_row3\" class=\"row_heading level0 row3\" >AveBedrms</th>\n",
       "      <td id=\"T_c7ec9_row3_col0\" class=\"data row3 col0\" >-0.062040</td>\n",
       "      <td id=\"T_c7ec9_row3_col1\" class=\"data row3 col1\" >-0.077747</td>\n",
       "      <td id=\"T_c7ec9_row3_col2\" class=\"data row3 col2\" >0.847621</td>\n",
       "      <td id=\"T_c7ec9_row3_col3\" class=\"data row3 col3\" >1.000000</td>\n",
       "      <td id=\"T_c7ec9_row3_col4\" class=\"data row3 col4\" >-0.066197</td>\n",
       "      <td id=\"T_c7ec9_row3_col5\" class=\"data row3 col5\" >-0.006181</td>\n",
       "      <td id=\"T_c7ec9_row3_col6\" class=\"data row3 col6\" >0.069721</td>\n",
       "      <td id=\"T_c7ec9_row3_col7\" class=\"data row3 col7\" >0.013344</td>\n",
       "      <td id=\"T_c7ec9_row3_col8\" class=\"data row3 col8\" >-0.046701</td>\n",
       "    </tr>\n",
       "    <tr>\n",
       "      <th id=\"T_c7ec9_level0_row4\" class=\"row_heading level0 row4\" >Population</th>\n",
       "      <td id=\"T_c7ec9_row4_col0\" class=\"data row4 col0\" >0.004834</td>\n",
       "      <td id=\"T_c7ec9_row4_col1\" class=\"data row4 col1\" >-0.296244</td>\n",
       "      <td id=\"T_c7ec9_row4_col2\" class=\"data row4 col2\" >-0.072213</td>\n",
       "      <td id=\"T_c7ec9_row4_col3\" class=\"data row4 col3\" >-0.066197</td>\n",
       "      <td id=\"T_c7ec9_row4_col4\" class=\"data row4 col4\" >1.000000</td>\n",
       "      <td id=\"T_c7ec9_row4_col5\" class=\"data row4 col5\" >0.069863</td>\n",
       "      <td id=\"T_c7ec9_row4_col6\" class=\"data row4 col6\" >-0.108785</td>\n",
       "      <td id=\"T_c7ec9_row4_col7\" class=\"data row4 col7\" >0.099773</td>\n",
       "      <td id=\"T_c7ec9_row4_col8\" class=\"data row4 col8\" >-0.024650</td>\n",
       "    </tr>\n",
       "    <tr>\n",
       "      <th id=\"T_c7ec9_level0_row5\" class=\"row_heading level0 row5\" >AveOccup</th>\n",
       "      <td id=\"T_c7ec9_row5_col0\" class=\"data row5 col0\" >0.018766</td>\n",
       "      <td id=\"T_c7ec9_row5_col1\" class=\"data row5 col1\" >0.013191</td>\n",
       "      <td id=\"T_c7ec9_row5_col2\" class=\"data row5 col2\" >-0.004852</td>\n",
       "      <td id=\"T_c7ec9_row5_col3\" class=\"data row5 col3\" >-0.006181</td>\n",
       "      <td id=\"T_c7ec9_row5_col4\" class=\"data row5 col4\" >0.069863</td>\n",
       "      <td id=\"T_c7ec9_row5_col5\" class=\"data row5 col5\" >1.000000</td>\n",
       "      <td id=\"T_c7ec9_row5_col6\" class=\"data row5 col6\" >0.002366</td>\n",
       "      <td id=\"T_c7ec9_row5_col7\" class=\"data row5 col7\" >0.002476</td>\n",
       "      <td id=\"T_c7ec9_row5_col8\" class=\"data row5 col8\" >-0.023737</td>\n",
       "    </tr>\n",
       "    <tr>\n",
       "      <th id=\"T_c7ec9_level0_row6\" class=\"row_heading level0 row6\" >Latitude</th>\n",
       "      <td id=\"T_c7ec9_row6_col0\" class=\"data row6 col0\" >-0.079809</td>\n",
       "      <td id=\"T_c7ec9_row6_col1\" class=\"data row6 col1\" >0.011173</td>\n",
       "      <td id=\"T_c7ec9_row6_col2\" class=\"data row6 col2\" >0.106389</td>\n",
       "      <td id=\"T_c7ec9_row6_col3\" class=\"data row6 col3\" >0.069721</td>\n",
       "      <td id=\"T_c7ec9_row6_col4\" class=\"data row6 col4\" >-0.108785</td>\n",
       "      <td id=\"T_c7ec9_row6_col5\" class=\"data row6 col5\" >0.002366</td>\n",
       "      <td id=\"T_c7ec9_row6_col6\" class=\"data row6 col6\" >1.000000</td>\n",
       "      <td id=\"T_c7ec9_row6_col7\" class=\"data row6 col7\" >-0.924664</td>\n",
       "      <td id=\"T_c7ec9_row6_col8\" class=\"data row6 col8\" >-0.144160</td>\n",
       "    </tr>\n",
       "    <tr>\n",
       "      <th id=\"T_c7ec9_level0_row7\" class=\"row_heading level0 row7\" >Longitude</th>\n",
       "      <td id=\"T_c7ec9_row7_col0\" class=\"data row7 col0\" >-0.015176</td>\n",
       "      <td id=\"T_c7ec9_row7_col1\" class=\"data row7 col1\" >-0.108197</td>\n",
       "      <td id=\"T_c7ec9_row7_col2\" class=\"data row7 col2\" >-0.027540</td>\n",
       "      <td id=\"T_c7ec9_row7_col3\" class=\"data row7 col3\" >0.013344</td>\n",
       "      <td id=\"T_c7ec9_row7_col4\" class=\"data row7 col4\" >0.099773</td>\n",
       "      <td id=\"T_c7ec9_row7_col5\" class=\"data row7 col5\" >0.002476</td>\n",
       "      <td id=\"T_c7ec9_row7_col6\" class=\"data row7 col6\" >-0.924664</td>\n",
       "      <td id=\"T_c7ec9_row7_col7\" class=\"data row7 col7\" >1.000000</td>\n",
       "      <td id=\"T_c7ec9_row7_col8\" class=\"data row7 col8\" >-0.045967</td>\n",
       "    </tr>\n",
       "    <tr>\n",
       "      <th id=\"T_c7ec9_level0_row8\" class=\"row_heading level0 row8\" >MedHouseVal</th>\n",
       "      <td id=\"T_c7ec9_row8_col0\" class=\"data row8 col0\" >0.688075</td>\n",
       "      <td id=\"T_c7ec9_row8_col1\" class=\"data row8 col1\" >0.105623</td>\n",
       "      <td id=\"T_c7ec9_row8_col2\" class=\"data row8 col2\" >0.151948</td>\n",
       "      <td id=\"T_c7ec9_row8_col3\" class=\"data row8 col3\" >-0.046701</td>\n",
       "      <td id=\"T_c7ec9_row8_col4\" class=\"data row8 col4\" >-0.024650</td>\n",
       "      <td id=\"T_c7ec9_row8_col5\" class=\"data row8 col5\" >-0.023737</td>\n",
       "      <td id=\"T_c7ec9_row8_col6\" class=\"data row8 col6\" >-0.144160</td>\n",
       "      <td id=\"T_c7ec9_row8_col7\" class=\"data row8 col7\" >-0.045967</td>\n",
       "      <td id=\"T_c7ec9_row8_col8\" class=\"data row8 col8\" >1.000000</td>\n",
       "    </tr>\n",
       "  </tbody>\n",
       "</table>\n"
      ],
      "text/plain": [
       "<pandas.io.formats.style.Styler at 0x7fb3ecd917c0>"
      ]
     },
     "execution_count": 410,
     "metadata": {},
     "output_type": "execute_result"
    }
   ],
   "source": [
    "corr = df.corr()\n",
    "corr.style.background_gradient(cmap = 'coolwarm') \n"
   ]
  },
  {
   "cell_type": "markdown",
   "id": "ad1327de",
   "metadata": {},
   "source": [
    "    Видим, что есть сильная корреляционная зависимость между признаками 'AveRooms' и  'AveBedrms',целевой переменной и  'MedInc', широтой и долготой. Попробуем оставить только их"
   ]
  },
  {
   "cell_type": "code",
   "execution_count": 411,
   "id": "da8c2ae0",
   "metadata": {},
   "outputs": [],
   "source": [
    "X1 = df[['MedInc'  , 'AveRooms', 'AveBedrms' ,'Latitude', 'Longitude' ]]\n",
    "y1 = df['MedHouseVal']"
   ]
  },
  {
   "cell_type": "code",
   "execution_count": 412,
   "id": "cd8794b9",
   "metadata": {},
   "outputs": [],
   "source": [
    "X1_train, X1_test, y1_train, y1_test = train_test_split(X1, y1, test_size=0.2) \n",
    "model = LinearRegression()"
   ]
  },
  {
   "cell_type": "code",
   "execution_count": 413,
   "id": "eef9c6fd",
   "metadata": {},
   "outputs": [
    {
     "data": {
      "text/plain": [
       "LinearRegression()"
      ]
     },
     "execution_count": 413,
     "metadata": {},
     "output_type": "execute_result"
    }
   ],
   "source": [
    "model.fit(X1_train, y1_train)"
   ]
  },
  {
   "cell_type": "code",
   "execution_count": 414,
   "id": "82643a22",
   "metadata": {},
   "outputs": [
    {
     "data": {
      "text/plain": [
       "0.5931726546337639"
      ]
     },
     "execution_count": 414,
     "metadata": {},
     "output_type": "execute_result"
    }
   ],
   "source": [
    "r2_1_train =model.score(X1_train, y1_train)\n",
    "r2_1_train"
   ]
  },
  {
   "cell_type": "code",
   "execution_count": 415,
   "id": "5bbc9ad8",
   "metadata": {},
   "outputs": [],
   "source": [
    "pred1_train = model.predict(X1_train)"
   ]
  },
  {
   "cell_type": "code",
   "execution_count": 416,
   "id": "ff052c25",
   "metadata": {},
   "outputs": [
    {
     "data": {
      "text/plain": [
       "0.7371994471558351"
      ]
     },
     "execution_count": 416,
     "metadata": {},
     "output_type": "execute_result"
    }
   ],
   "source": [
    "sq1_train = sqrt(MSE(y1_train, pred1_train))\n",
    "sq1_train"
   ]
  },
  {
   "cell_type": "code",
   "execution_count": 417,
   "id": "c2597dd2",
   "metadata": {},
   "outputs": [
    {
     "data": {
      "text/plain": [
       "0.6042836854796749"
      ]
     },
     "execution_count": 417,
     "metadata": {},
     "output_type": "execute_result"
    }
   ],
   "source": [
    "r2_1_test = model.score(X1_test, y1_test)\n",
    "r2_1_test"
   ]
  },
  {
   "cell_type": "code",
   "execution_count": 418,
   "id": "f239e178",
   "metadata": {},
   "outputs": [
    {
     "data": {
      "text/plain": [
       "0.7211789473857921"
      ]
     },
     "execution_count": 418,
     "metadata": {},
     "output_type": "execute_result"
    }
   ],
   "source": [
    "pred1_test = model.predict(X1_test)\n",
    "sq1_test = sqrt(MSE(y1_test, pred1_test))\n",
    "sq1_test"
   ]
  },
  {
   "cell_type": "markdown",
   "id": "782e01ea",
   "metadata": {},
   "source": [
    "# Находим и убираем выбросы"
   ]
  },
  {
   "cell_type": "code",
   "execution_count": 419,
   "id": "7f71bc9d",
   "metadata": {},
   "outputs": [
    {
     "data": {
      "text/html": [
       "<div>\n",
       "<style scoped>\n",
       "    .dataframe tbody tr th:only-of-type {\n",
       "        vertical-align: middle;\n",
       "    }\n",
       "\n",
       "    .dataframe tbody tr th {\n",
       "        vertical-align: top;\n",
       "    }\n",
       "\n",
       "    .dataframe thead th {\n",
       "        text-align: right;\n",
       "    }\n",
       "</style>\n",
       "<table border=\"1\" class=\"dataframe\">\n",
       "  <thead>\n",
       "    <tr style=\"text-align: right;\">\n",
       "      <th></th>\n",
       "      <th>MedInc</th>\n",
       "      <th>HouseAge</th>\n",
       "      <th>AveRooms</th>\n",
       "      <th>AveBedrms</th>\n",
       "      <th>Population</th>\n",
       "      <th>AveOccup</th>\n",
       "      <th>Latitude</th>\n",
       "      <th>Longitude</th>\n",
       "      <th>MedHouseVal</th>\n",
       "    </tr>\n",
       "  </thead>\n",
       "  <tbody>\n",
       "    <tr>\n",
       "      <th>count</th>\n",
       "      <td>20640.000000</td>\n",
       "      <td>20640.000000</td>\n",
       "      <td>20640.000000</td>\n",
       "      <td>20640.000000</td>\n",
       "      <td>20640.000000</td>\n",
       "      <td>20640.000000</td>\n",
       "      <td>20640.000000</td>\n",
       "      <td>20640.000000</td>\n",
       "      <td>20640.000000</td>\n",
       "    </tr>\n",
       "    <tr>\n",
       "      <th>mean</th>\n",
       "      <td>3.870671</td>\n",
       "      <td>28.639486</td>\n",
       "      <td>5.429000</td>\n",
       "      <td>1.096675</td>\n",
       "      <td>1425.476744</td>\n",
       "      <td>3.070655</td>\n",
       "      <td>35.631861</td>\n",
       "      <td>-119.569704</td>\n",
       "      <td>2.068558</td>\n",
       "    </tr>\n",
       "    <tr>\n",
       "      <th>std</th>\n",
       "      <td>1.899822</td>\n",
       "      <td>12.585558</td>\n",
       "      <td>2.474173</td>\n",
       "      <td>0.473911</td>\n",
       "      <td>1132.462122</td>\n",
       "      <td>10.386050</td>\n",
       "      <td>2.135952</td>\n",
       "      <td>2.003532</td>\n",
       "      <td>1.153956</td>\n",
       "    </tr>\n",
       "    <tr>\n",
       "      <th>min</th>\n",
       "      <td>0.499900</td>\n",
       "      <td>1.000000</td>\n",
       "      <td>0.846154</td>\n",
       "      <td>0.333333</td>\n",
       "      <td>3.000000</td>\n",
       "      <td>0.692308</td>\n",
       "      <td>32.540000</td>\n",
       "      <td>-124.350000</td>\n",
       "      <td>0.149990</td>\n",
       "    </tr>\n",
       "    <tr>\n",
       "      <th>25%</th>\n",
       "      <td>2.563400</td>\n",
       "      <td>18.000000</td>\n",
       "      <td>4.440716</td>\n",
       "      <td>1.006079</td>\n",
       "      <td>787.000000</td>\n",
       "      <td>2.429741</td>\n",
       "      <td>33.930000</td>\n",
       "      <td>-121.800000</td>\n",
       "      <td>1.196000</td>\n",
       "    </tr>\n",
       "    <tr>\n",
       "      <th>50%</th>\n",
       "      <td>3.534800</td>\n",
       "      <td>29.000000</td>\n",
       "      <td>5.229129</td>\n",
       "      <td>1.048780</td>\n",
       "      <td>1166.000000</td>\n",
       "      <td>2.818116</td>\n",
       "      <td>34.260000</td>\n",
       "      <td>-118.490000</td>\n",
       "      <td>1.797000</td>\n",
       "    </tr>\n",
       "    <tr>\n",
       "      <th>75%</th>\n",
       "      <td>4.743250</td>\n",
       "      <td>37.000000</td>\n",
       "      <td>6.052381</td>\n",
       "      <td>1.099526</td>\n",
       "      <td>1725.000000</td>\n",
       "      <td>3.282261</td>\n",
       "      <td>37.710000</td>\n",
       "      <td>-118.010000</td>\n",
       "      <td>2.647250</td>\n",
       "    </tr>\n",
       "    <tr>\n",
       "      <th>max</th>\n",
       "      <td>15.000100</td>\n",
       "      <td>52.000000</td>\n",
       "      <td>141.909091</td>\n",
       "      <td>34.066667</td>\n",
       "      <td>35682.000000</td>\n",
       "      <td>1243.333333</td>\n",
       "      <td>41.950000</td>\n",
       "      <td>-114.310000</td>\n",
       "      <td>5.000010</td>\n",
       "    </tr>\n",
       "  </tbody>\n",
       "</table>\n",
       "</div>"
      ],
      "text/plain": [
       "             MedInc      HouseAge      AveRooms     AveBedrms    Population  \\\n",
       "count  20640.000000  20640.000000  20640.000000  20640.000000  20640.000000   \n",
       "mean       3.870671     28.639486      5.429000      1.096675   1425.476744   \n",
       "std        1.899822     12.585558      2.474173      0.473911   1132.462122   \n",
       "min        0.499900      1.000000      0.846154      0.333333      3.000000   \n",
       "25%        2.563400     18.000000      4.440716      1.006079    787.000000   \n",
       "50%        3.534800     29.000000      5.229129      1.048780   1166.000000   \n",
       "75%        4.743250     37.000000      6.052381      1.099526   1725.000000   \n",
       "max       15.000100     52.000000    141.909091     34.066667  35682.000000   \n",
       "\n",
       "           AveOccup      Latitude     Longitude   MedHouseVal  \n",
       "count  20640.000000  20640.000000  20640.000000  20640.000000  \n",
       "mean       3.070655     35.631861   -119.569704      2.068558  \n",
       "std       10.386050      2.135952      2.003532      1.153956  \n",
       "min        0.692308     32.540000   -124.350000      0.149990  \n",
       "25%        2.429741     33.930000   -121.800000      1.196000  \n",
       "50%        2.818116     34.260000   -118.490000      1.797000  \n",
       "75%        3.282261     37.710000   -118.010000      2.647250  \n",
       "max     1243.333333     41.950000   -114.310000      5.000010  "
      ]
     },
     "execution_count": 419,
     "metadata": {},
     "output_type": "execute_result"
    }
   ],
   "source": [
    "df.describe()"
   ]
  },
  {
   "cell_type": "code",
   "execution_count": 420,
   "id": "72233901",
   "metadata": {},
   "outputs": [
    {
     "data": {
      "text/html": [
       "<div>\n",
       "<style scoped>\n",
       "    .dataframe tbody tr th:only-of-type {\n",
       "        vertical-align: middle;\n",
       "    }\n",
       "\n",
       "    .dataframe tbody tr th {\n",
       "        vertical-align: top;\n",
       "    }\n",
       "\n",
       "    .dataframe thead th {\n",
       "        text-align: right;\n",
       "    }\n",
       "</style>\n",
       "<table border=\"1\" class=\"dataframe\">\n",
       "  <thead>\n",
       "    <tr style=\"text-align: right;\">\n",
       "      <th></th>\n",
       "      <th>MedInc</th>\n",
       "      <th>HouseAge</th>\n",
       "      <th>AveRooms</th>\n",
       "      <th>AveBedrms</th>\n",
       "      <th>Population</th>\n",
       "      <th>AveOccup</th>\n",
       "      <th>Latitude</th>\n",
       "      <th>Longitude</th>\n",
       "      <th>MedHouseVal</th>\n",
       "    </tr>\n",
       "  </thead>\n",
       "  <tbody>\n",
       "    <tr>\n",
       "      <th>1914</th>\n",
       "      <td>1.875</td>\n",
       "      <td>33.0</td>\n",
       "      <td>141.909091</td>\n",
       "      <td>25.636364</td>\n",
       "      <td>30.0</td>\n",
       "      <td>2.727273</td>\n",
       "      <td>38.91</td>\n",
       "      <td>-120.10</td>\n",
       "      <td>5.00001</td>\n",
       "    </tr>\n",
       "    <tr>\n",
       "      <th>1979</th>\n",
       "      <td>4.625</td>\n",
       "      <td>34.0</td>\n",
       "      <td>132.533333</td>\n",
       "      <td>34.066667</td>\n",
       "      <td>36.0</td>\n",
       "      <td>2.400000</td>\n",
       "      <td>38.80</td>\n",
       "      <td>-120.08</td>\n",
       "      <td>1.62500</td>\n",
       "    </tr>\n",
       "  </tbody>\n",
       "</table>\n",
       "</div>"
      ],
      "text/plain": [
       "      MedInc  HouseAge    AveRooms  AveBedrms  Population  AveOccup  Latitude  \\\n",
       "1914   1.875      33.0  141.909091  25.636364        30.0  2.727273     38.91   \n",
       "1979   4.625      34.0  132.533333  34.066667        36.0  2.400000     38.80   \n",
       "\n",
       "      Longitude  MedHouseVal  \n",
       "1914    -120.10      5.00001  \n",
       "1979    -120.08      1.62500  "
      ]
     },
     "execution_count": 420,
     "metadata": {},
     "output_type": "execute_result"
    }
   ],
   "source": [
    "df[df['AveRooms'] > 100]"
   ]
  },
  {
   "cell_type": "code",
   "execution_count": 421,
   "id": "088616f7",
   "metadata": {},
   "outputs": [],
   "source": [
    "df = df.drop(labels = [1914, 1979], axis = 0)\n"
   ]
  },
  {
   "cell_type": "code",
   "execution_count": 422,
   "id": "f4dba5f9",
   "metadata": {},
   "outputs": [
    {
     "name": "stdout",
     "output_type": "stream",
     "text": [
      "<class 'pandas.core.frame.DataFrame'>\n",
      "Int64Index: 20638 entries, 0 to 20639\n",
      "Data columns (total 9 columns):\n",
      " #   Column       Non-Null Count  Dtype  \n",
      "---  ------       --------------  -----  \n",
      " 0   MedInc       20638 non-null  float64\n",
      " 1   HouseAge     20638 non-null  float64\n",
      " 2   AveRooms     20638 non-null  float64\n",
      " 3   AveBedrms    20638 non-null  float64\n",
      " 4   Population   20638 non-null  float64\n",
      " 5   AveOccup     20638 non-null  float64\n",
      " 6   Latitude     20638 non-null  float64\n",
      " 7   Longitude    20638 non-null  float64\n",
      " 8   MedHouseVal  20638 non-null  float64\n",
      "dtypes: float64(9)\n",
      "memory usage: 1.6 MB\n"
     ]
    }
   ],
   "source": [
    "df.info()"
   ]
  },
  {
   "cell_type": "code",
   "execution_count": 423,
   "id": "bd94107c",
   "metadata": {},
   "outputs": [],
   "source": [
    "X2 = df[['MedInc' , 'HouseAge', 'AveRooms','AveBedrms', 'Latitude', 'Longitude' ]]\n",
    "y2 = df['MedHouseVal']"
   ]
  },
  {
   "cell_type": "code",
   "execution_count": 424,
   "id": "4f6ece42",
   "metadata": {},
   "outputs": [],
   "source": [
    "X2_train, X2_test, y2_train, y2_test = train_test_split(X2, y2, test_size=0.2) \n",
    "model = LinearRegression()"
   ]
  },
  {
   "cell_type": "code",
   "execution_count": 425,
   "id": "6203d2e6",
   "metadata": {},
   "outputs": [
    {
     "data": {
      "text/plain": [
       "0.6033302347151926"
      ]
     },
     "execution_count": 425,
     "metadata": {},
     "output_type": "execute_result"
    }
   ],
   "source": [
    "model.fit(X2_train, y2_train)\n",
    "r2_2_train = model.score(X2_train, y2_train)\n",
    "r2_2_train"
   ]
  },
  {
   "cell_type": "code",
   "execution_count": 426,
   "id": "14bea970",
   "metadata": {},
   "outputs": [
    {
     "data": {
      "text/plain": [
       "0.7239778124572628"
      ]
     },
     "execution_count": 426,
     "metadata": {},
     "output_type": "execute_result"
    }
   ],
   "source": [
    "pred2_train  = model.predict(X2_train)\n",
    "sq2_train = sqrt(MSE(y2_train, pred2_train))\n",
    "sq2_train"
   ]
  },
  {
   "cell_type": "code",
   "execution_count": 427,
   "id": "500b931b",
   "metadata": {},
   "outputs": [
    {
     "data": {
      "text/plain": [
       "0.6251068634405568"
      ]
     },
     "execution_count": 427,
     "metadata": {},
     "output_type": "execute_result"
    }
   ],
   "source": [
    "r2_2_test = model.score (X2_test, y2_test)\n",
    "r2_2_test"
   ]
  },
  {
   "cell_type": "code",
   "execution_count": 428,
   "id": "821f31f5",
   "metadata": {},
   "outputs": [
    {
     "data": {
      "text/plain": [
       "0.7168732315986055"
      ]
     },
     "execution_count": 428,
     "metadata": {},
     "output_type": "execute_result"
    }
   ],
   "source": [
    "pred2_test = model.predict(X2_test)\n",
    "sq2_test = sqrt(MSE(y2_test, pred2_test))\n",
    "sq2_test"
   ]
  },
  {
   "cell_type": "markdown",
   "id": "733c851c",
   "metadata": {},
   "source": [
    "# Математическое действие над переменной"
   ]
  },
  {
   "cell_type": "code",
   "execution_count": 429,
   "id": "a4709f2c",
   "metadata": {},
   "outputs": [
    {
     "data": {
      "text/html": [
       "<div>\n",
       "<style scoped>\n",
       "    .dataframe tbody tr th:only-of-type {\n",
       "        vertical-align: middle;\n",
       "    }\n",
       "\n",
       "    .dataframe tbody tr th {\n",
       "        vertical-align: top;\n",
       "    }\n",
       "\n",
       "    .dataframe thead th {\n",
       "        text-align: right;\n",
       "    }\n",
       "</style>\n",
       "<table border=\"1\" class=\"dataframe\">\n",
       "  <thead>\n",
       "    <tr style=\"text-align: right;\">\n",
       "      <th></th>\n",
       "      <th>MedInc</th>\n",
       "      <th>HouseAge</th>\n",
       "      <th>AveRooms</th>\n",
       "      <th>AveBedrms</th>\n",
       "      <th>Population</th>\n",
       "      <th>AveOccup</th>\n",
       "      <th>Latitude</th>\n",
       "      <th>Longitude</th>\n",
       "      <th>MedHouseVal</th>\n",
       "    </tr>\n",
       "  </thead>\n",
       "  <tbody>\n",
       "    <tr>\n",
       "      <th>0</th>\n",
       "      <td>8.3252</td>\n",
       "      <td>41.0</td>\n",
       "      <td>6.984127</td>\n",
       "      <td>1.023810</td>\n",
       "      <td>322.0</td>\n",
       "      <td>2.555556</td>\n",
       "      <td>37.88</td>\n",
       "      <td>-122.23</td>\n",
       "      <td>4.526</td>\n",
       "    </tr>\n",
       "    <tr>\n",
       "      <th>1</th>\n",
       "      <td>8.3014</td>\n",
       "      <td>21.0</td>\n",
       "      <td>6.238137</td>\n",
       "      <td>0.971880</td>\n",
       "      <td>2401.0</td>\n",
       "      <td>2.109842</td>\n",
       "      <td>37.86</td>\n",
       "      <td>-122.22</td>\n",
       "      <td>3.585</td>\n",
       "    </tr>\n",
       "    <tr>\n",
       "      <th>2</th>\n",
       "      <td>7.2574</td>\n",
       "      <td>52.0</td>\n",
       "      <td>8.288136</td>\n",
       "      <td>1.073446</td>\n",
       "      <td>496.0</td>\n",
       "      <td>2.802260</td>\n",
       "      <td>37.85</td>\n",
       "      <td>-122.24</td>\n",
       "      <td>3.521</td>\n",
       "    </tr>\n",
       "    <tr>\n",
       "      <th>3</th>\n",
       "      <td>5.6431</td>\n",
       "      <td>52.0</td>\n",
       "      <td>5.817352</td>\n",
       "      <td>1.073059</td>\n",
       "      <td>558.0</td>\n",
       "      <td>2.547945</td>\n",
       "      <td>37.85</td>\n",
       "      <td>-122.25</td>\n",
       "      <td>3.413</td>\n",
       "    </tr>\n",
       "    <tr>\n",
       "      <th>4</th>\n",
       "      <td>3.8462</td>\n",
       "      <td>52.0</td>\n",
       "      <td>6.281853</td>\n",
       "      <td>1.081081</td>\n",
       "      <td>565.0</td>\n",
       "      <td>2.181467</td>\n",
       "      <td>37.85</td>\n",
       "      <td>-122.25</td>\n",
       "      <td>3.422</td>\n",
       "    </tr>\n",
       "  </tbody>\n",
       "</table>\n",
       "</div>"
      ],
      "text/plain": [
       "   MedInc  HouseAge  AveRooms  AveBedrms  Population  AveOccup  Latitude  \\\n",
       "0  8.3252      41.0  6.984127   1.023810       322.0  2.555556     37.88   \n",
       "1  8.3014      21.0  6.238137   0.971880      2401.0  2.109842     37.86   \n",
       "2  7.2574      52.0  8.288136   1.073446       496.0  2.802260     37.85   \n",
       "3  5.6431      52.0  5.817352   1.073059       558.0  2.547945     37.85   \n",
       "4  3.8462      52.0  6.281853   1.081081       565.0  2.181467     37.85   \n",
       "\n",
       "   Longitude  MedHouseVal  \n",
       "0    -122.23        4.526  \n",
       "1    -122.22        3.585  \n",
       "2    -122.24        3.521  \n",
       "3    -122.25        3.413  \n",
       "4    -122.25        3.422  "
      ]
     },
     "execution_count": 429,
     "metadata": {},
     "output_type": "execute_result"
    }
   ],
   "source": [
    "df.head()"
   ]
  },
  {
   "cell_type": "code",
   "execution_count": 430,
   "id": "9a5ddb98",
   "metadata": {},
   "outputs": [
    {
     "data": {
      "text/plain": [
       "LinearRegression()"
      ]
     },
     "execution_count": 430,
     "metadata": {},
     "output_type": "execute_result"
    }
   ],
   "source": [
    "df['Population'] = df['Population']**0.5\n",
    "X3 = df[['MedInc', 'HouseAge', 'AveRooms', 'Population', 'AveOccup',\n",
    "       'Latitude']]\n",
    "y3 = df['MedHouseVal']\n",
    "X3_train, X3_test, y3_train, y3_test = train_test_split(X3, y3, test_size=0.2, random_state=42)\n",
    "model = LinearRegression()\n",
    "model.fit(X3_train, y3_train)"
   ]
  },
  {
   "cell_type": "code",
   "execution_count": 431,
   "id": "96d975a8",
   "metadata": {},
   "outputs": [
    {
     "data": {
      "text/plain": [
       "0.5244698562425071"
      ]
     },
     "execution_count": 431,
     "metadata": {},
     "output_type": "execute_result"
    }
   ],
   "source": [
    "r2_3train = model.score(X3_train, y3_train)\n",
    "r2_3train"
   ]
  },
  {
   "cell_type": "code",
   "execution_count": 432,
   "id": "cf083edc",
   "metadata": {},
   "outputs": [
    {
     "data": {
      "text/plain": [
       "0.7959699490638616"
      ]
     },
     "execution_count": 432,
     "metadata": {},
     "output_type": "execute_result"
    }
   ],
   "source": [
    "pred3_train = model.predict(X3_train)\n",
    "sq3_train = sqrt(MSE(y3_train, pred3_train))\n",
    "sq3_train"
   ]
  },
  {
   "cell_type": "code",
   "execution_count": 433,
   "id": "462fc10e",
   "metadata": {},
   "outputs": [
    {
     "data": {
      "text/plain": [
       "0.5171028063207166"
      ]
     },
     "execution_count": 433,
     "metadata": {},
     "output_type": "execute_result"
    }
   ],
   "source": [
    "r2_3test = model.score(X3_test, y3_test)\n",
    "r2_3test"
   ]
  },
  {
   "cell_type": "code",
   "execution_count": 434,
   "id": "80f3bd4d",
   "metadata": {},
   "outputs": [
    {
     "data": {
      "text/plain": [
       "0.8003830689645335"
      ]
     },
     "execution_count": 434,
     "metadata": {},
     "output_type": "execute_result"
    }
   ],
   "source": [
    "pred3_test = model.predict(X3_test)\n",
    "sq3_test = sqrt(MSE(y3_test, pred3_test))\n",
    "sq3_test"
   ]
  },
  {
   "cell_type": "markdown",
   "id": "5d05b6c5",
   "metadata": {},
   "source": [
    "# Сводная таблица метрик"
   ]
  },
  {
   "cell_type": "code",
   "execution_count": 435,
   "id": "7cc48bcf",
   "metadata": {},
   "outputs": [
    {
     "data": {
      "text/html": [
       "<div>\n",
       "<style scoped>\n",
       "    .dataframe tbody tr th:only-of-type {\n",
       "        vertical-align: middle;\n",
       "    }\n",
       "\n",
       "    .dataframe tbody tr th {\n",
       "        vertical-align: top;\n",
       "    }\n",
       "\n",
       "    .dataframe thead th {\n",
       "        text-align: right;\n",
       "    }\n",
       "</style>\n",
       "<table border=\"1\" class=\"dataframe\">\n",
       "  <thead>\n",
       "    <tr style=\"text-align: right;\">\n",
       "      <th></th>\n",
       "      <th>Model</th>\n",
       "      <th>RMSE</th>\n",
       "      <th>R2</th>\n",
       "      <th>Работа с переменными</th>\n",
       "    </tr>\n",
       "  </thead>\n",
       "  <tbody>\n",
       "    <tr>\n",
       "      <th>0</th>\n",
       "      <td>test</td>\n",
       "      <td>0.736471</td>\n",
       "      <td>0.588243</td>\n",
       "      <td>Все значения</td>\n",
       "    </tr>\n",
       "    <tr>\n",
       "      <th>1</th>\n",
       "      <td>train</td>\n",
       "      <td>0.721210</td>\n",
       "      <td>0.610324</td>\n",
       "      <td>Все значения</td>\n",
       "    </tr>\n",
       "    <tr>\n",
       "      <th>2</th>\n",
       "      <td>test1</td>\n",
       "      <td>0.721179</td>\n",
       "      <td>0.604284</td>\n",
       "      <td>Удаление признаков</td>\n",
       "    </tr>\n",
       "    <tr>\n",
       "      <th>3</th>\n",
       "      <td>train1</td>\n",
       "      <td>0.737199</td>\n",
       "      <td>0.593173</td>\n",
       "      <td>Удаление признаков</td>\n",
       "    </tr>\n",
       "    <tr>\n",
       "      <th>4</th>\n",
       "      <td>test2</td>\n",
       "      <td>0.716873</td>\n",
       "      <td>0.625107</td>\n",
       "      <td>Ликвидация выбросов</td>\n",
       "    </tr>\n",
       "    <tr>\n",
       "      <th>5</th>\n",
       "      <td>train2</td>\n",
       "      <td>0.723978</td>\n",
       "      <td>0.603330</td>\n",
       "      <td>Ликвидация выбросов</td>\n",
       "    </tr>\n",
       "    <tr>\n",
       "      <th>6</th>\n",
       "      <td>test3</td>\n",
       "      <td>0.800383</td>\n",
       "      <td>0.517103</td>\n",
       "      <td>Квадратный корень из Population</td>\n",
       "    </tr>\n",
       "    <tr>\n",
       "      <th>7</th>\n",
       "      <td>train3</td>\n",
       "      <td>0.795970</td>\n",
       "      <td>0.524470</td>\n",
       "      <td>Квадратный корень из Population</td>\n",
       "    </tr>\n",
       "  </tbody>\n",
       "</table>\n",
       "</div>"
      ],
      "text/plain": [
       "    Model      RMSE        R2             Работа с переменными\n",
       "0    test  0.736471  0.588243                     Все значения\n",
       "1   train  0.721210  0.610324                     Все значения\n",
       "2   test1  0.721179  0.604284               Удаление признаков\n",
       "3  train1  0.737199  0.593173               Удаление признаков\n",
       "4   test2  0.716873  0.625107              Ликвидация выбросов\n",
       "5  train2  0.723978  0.603330              Ликвидация выбросов\n",
       "6   test3  0.800383  0.517103  Квадратный корень из Population\n",
       "7  train3  0.795970  0.524470  Квадратный корень из Population"
      ]
     },
     "execution_count": 435,
     "metadata": {},
     "output_type": "execute_result"
    }
   ],
   "source": [
    "results = pd.DataFrame(columns=['Model','RMSE','R2','Работа с переменными'])\n",
    "\n",
    "results.loc[len(results)] = ['test',sq_test,r2_test,'Все значения']\n",
    "results.loc[len(results)] = ['train',sq_train,r2_train,'Все значения']\n",
    "\n",
    "results.loc[len(results)] = ['test1',sq1_test,r2_1_test,'Удаление признаков']\n",
    "results.loc[len(results)] = ['train1',sq1_train,r2_1_train,'Удаление признаков']\n",
    "\n",
    "results.loc[len(results)] = ['test2',sq2_test,r2_2_test,'Ликвидация выбросов']\n",
    "results.loc[len(results)] = ['train2',sq2_train,r2_2_train,'Ликвидация выбросов']\n",
    "\n",
    "results.loc[len(results)] = ['test3',sq3_test,r2_3test,'Квадратный корень из Population']\n",
    "results.loc[len(results)] = ['train3',sq3_train, r2_3train,'Квадратный корень из Population']\n",
    "\n",
    "results"
   ]
  },
  {
   "cell_type": "markdown",
   "id": "abd86e6f",
   "metadata": {},
   "source": [
    "# Выводы\n",
    "В данном датасете наилучший результат модели линейной регрессии мы получаем при работе с выбросами. Возможно, стоило взять ниже порог для выбросов, чтоб результат был лучше"
   ]
  },
  {
   "cell_type": "code",
   "execution_count": null,
   "id": "aa62e488",
   "metadata": {},
   "outputs": [],
   "source": []
  }
 ],
 "metadata": {
  "kernelspec": {
   "display_name": "Python 3 (ipykernel)",
   "language": "python",
   "name": "python3"
  },
  "language_info": {
   "codemirror_mode": {
    "name": "ipython",
    "version": 3
   },
   "file_extension": ".py",
   "mimetype": "text/x-python",
   "name": "python",
   "nbconvert_exporter": "python",
   "pygments_lexer": "ipython3",
   "version": "3.9.13"
  }
 },
 "nbformat": 4,
 "nbformat_minor": 5
}
